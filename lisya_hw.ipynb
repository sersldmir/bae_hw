{
 "cells": [
  {
   "cell_type": "markdown",
   "id": "171d1991",
   "metadata": {},
   "source": [
    "Расчёты"
   ]
  },
  {
   "cell_type": "code",
   "execution_count": 1,
   "id": "6c506de9",
   "metadata": {},
   "outputs": [
    {
     "name": "stdout",
     "output_type": "stream",
     "text": [
      "Исходные данные\n",
      "5.0 3.0 2.0\n"
     ]
    }
   ],
   "source": [
    "#ввод данных\n",
    "lst=[float(i.replace(',','.')) for i in input().split()] # исходные данные\n",
    "print('Исходные данные')\n",
    "print(' '.join([str(i) for i in lst]))"
   ]
  },
  {
   "cell_type": "code",
   "execution_count": 9,
   "id": "2329e04e",
   "metadata": {},
   "outputs": [
    {
     "name": "stdout",
     "output_type": "stream",
     "text": [
      "Размах вариации: 1.13 - -5.18 = 6.31\n",
      "Оптимальное количество интервалов: 1 + (логорифм 50 по основанию 2) = 7\n",
      "Шаг оптимального ряда = 0.9\n",
      "Узел 1: -5.18 + (0 * 0.9014285714285714) = -5.18\n",
      "Узел 2: -5.18 + (1 * 0.9014285714285714) = -4.28\n",
      "Узел 3: -5.18 + (2 * 0.9014285714285714) = -3.38\n",
      "Узел 4: -5.18 + (3 * 0.9014285714285714) = -2.48\n",
      "Узел 5: -5.18 + (4 * 0.9014285714285714) = -1.57\n",
      "Узел 6: -5.18 + (5 * 0.9014285714285714) = -0.67\n",
      "Узел 7: -5.18 + (6 * 0.9014285714285714) = 0.23\n",
      "Узел 8: -5.18 + (7 * 0.9014285714285714) = 1.13\n",
      "Узлы:\n",
      "[-5.18, -4.28, -3.38, -2.48, -1.57, -0.67, 0.23, 1.13]\n",
      "В интервале (-5.18;-4.28] частота (количество попаданий цифер в интервал) равна = 2. Какие номера попали: -5.18 , -4.57\n",
      "В интервале (-4.28;-3.38] частота (количество попаданий цифер в интервал) равна = 7. Какие номера попали: -4.17 , -3.48 , -4.21 , -3.93 , -3.97 , -4.07 , -3.82\n",
      "В интервале (-3.38;-2.48] частота (количество попаданий цифер в интервал) равна = 10. Какие номера попали: -3.03 , -2.92 , -3.14 , -3.16 , -2.8 , -2.9 , -2.83 , -2.59 , -2.98 , -3.1\n",
      "В интервале (-2.48;-1.57] частота (количество попаданий цифер в интервал) равна = 13. Какие номера попали: -1.69 , -1.75 , -2.12 , -2.44 , -2.38 , -2.45 , -1.86 , -2.31 , -2.12 , -1.63 , -2.48 , -1.98 , -1.89\n",
      "В интервале (-1.57;-0.67] частота (количество попаданий цифер в интервал) равна = 8. Какие номера попали: -1.5 , -1.1 , -1.32 , -1.42 , -0.9 , -0.94 , -1.39 , -0.9\n",
      "В интервале (-0.67;0.23] частота (количество попаданий цифер в интервал) равна = 4. Какие номера попали: -0.23 , -0.1 , 0.09 , -0.26\n",
      "В интервале (0.23;1.13] частота (количество попаданий цифер в интервал) равна = 5. Какие номера попали: 0.58 , 0.36 , 0.42 , 0.55 , 0.27\n",
      "Частоты:\n",
      "[2, 7, 10, 13, 8, 4, 5]\n",
      "Интервальный ряд\n",
      "--------------------------------------------------------------------------------------------\n",
      "Интервалы --- Число попаданий\n",
      "[-5.18;-4.28) ---  2\n",
      "[-4.28;-3.38) ---  7\n",
      "[-3.38;-2.48) ---  10\n",
      "[-2.48;-1.57) ---  13\n",
      "[-1.57;-0.67) ---  8\n",
      "[-0.67;0.23) ---  4\n",
      "[0.23;1.13) ---  5\n",
      "--------------------------------------------------------------------------------------------\n",
      "Выборочная средняя (сумма середин интервалов ((х1-х0)/2), деленная на количество исходных данных) : -9.46 + -26.810000000000002 + -29.299999999999997 + -26.325 + -8.96 + -0.8800000000000001 + 3.3999999999999995 / 50 = -1.97\n",
      "Смещённая дисперсия: 1/N(кол-во исходных данных) * (сумма ряда (xi-Xср)^2*fi (i от 1 до k(количества интервалов) = 1 / 50) * ((((-4.73) - -1.97)^2 * 2) + (((-3.83) - -1.97)^2 * 7) + (((-2.9299999999999997) - -1.97)^2 * 10) + (((-2.025) - -1.97)^2 * 13) + (((-1.12) - -1.97)^2 * 8) + (((-0.22000000000000003) - -1.97)^2 * 4) + (((0.6799999999999999) - -1.97)^2 * 5)) = 2.04\n",
      "Несмещённая дисперсия (кол-во исходных данных - N, D - смещённая дисперсия): N/N-1 * D = (50/(50-1)) * 2.04 = 2.08\n",
      "Выборочное стандартное отклонение: квадратный корень из несмещённой дисперсии = 1.44\n",
      "Относительные частоты (частота каждого интервала, делённая на количество исходных данных) = 0.04 , 0.14 , 0.2 , 0.26 , 0.16 , 0.08 , 0.1\n",
      "Плотности относительных частот = 0.04 , 0.16 , 0.22 , 0.29 , 0.18 , 0.09 , 0.11\n",
      "Плотность относительной частоты 1 узла = (2/50 * |-0.8999999999999995|\n",
      "Плотность относительной частоты 2 узла = (7/50 * |-0.9000000000000004|\n",
      "Плотность относительной частоты 3 узла = (10/50 * |-0.8999999999999999|\n",
      "Плотность относительной частоты 4 узла = (13/50 * |-0.9099999999999999|\n",
      "Плотность относительной частоты 5 узла = (8/50 * |-0.9|\n",
      "Плотность относительной частоты 6 узла = (4/50 * |-0.9|\n",
      "Плотность относительной частоты 7 узла = (5/50 * |-0.8999999999999999|\n",
      "Накопленные частоты (суммы частот) = 2 , 9 , 19 , 32 , 40 , 44 , 49\n",
      "Накопленные относительные частоты = 0.04 , 0.18 , 0.38 , 0.64 , 0.8 , 0.88 , 0.98\n",
      "Мода ряда равна x0+((fm-fm1)/((fm-fm1)+(fm+fm2)))*p(шаг ряда) = -2.48+((3)/((3)+(21)))*0.9014285714285714 = -2.37\n",
      "Медиана ряда равна x0+((0.5-sme1)/wme)*p = -2.48+((0.5-0.38)/0.26)*0.9014285714285714 = -2.06\n"
     ]
    }
   ],
   "source": [
    "#вычисление размаха и шага\n",
    "import math\n",
    "R=round(max(lst)-min(lst),2)\n",
    "print(f'Размах вариации: {max(lst)} - {min(lst)} = {R}')\n",
    "k=math.ceil(1+math.log(len(lst),2))\n",
    "print(f'Оптимальное количество интервалов: 1 + (логорифм {len(lst)} по основанию 2) = {k}')\n",
    "p=R/k\n",
    "print(f'Шаг оптимального ряда = {round(p,2)}')\n",
    "# вычисление узлов\n",
    "knots=[]\n",
    "for i in range(k+1):\n",
    "    print(f'Узел {i+1}: {min(lst)} + ({i} * {p}) = {round(min(lst)+(i*p),2)}')\n",
    "    knots.append(round(min(lst)+(i*p),2))\n",
    "print(f'Узлы:\\n{knots}')\n",
    "f=[]\n",
    "for i in range(len(knots)-1):\n",
    "    tr,num=[],[]\n",
    "    for g in lst:\n",
    "        if knots[i]<=g<knots[i+1]:\n",
    "            tr.append(1)\n",
    "            num.append(g)\n",
    "    print(f'В интервале ({knots[i]};{knots[i+1]}] частота (количество попаданий цифер в интервал) равна = {sum(tr)}. Какие номера попали: {\" , \".join([str(i) for i in num])}')\n",
    "    f.append(sum(tr))\n",
    "print(f'Частоты:\\n{f}')\n",
    "print('Интервальный ряд')\n",
    "print('-'*92)\n",
    "print('Интервалы --- Число попаданий')\n",
    "dic_row={f'[{knots[i]};{knots[i+1]})':str(g) for i,g in zip(range(len(knots)-1),f)}\n",
    "for i,g in dic_row.items():\n",
    "    print(i + ' ---  '+ g)\n",
    "print('-'*92)\n",
    "#выборочная средняя\n",
    "av=[((knots[i]+knots[i+1])/2)*g for i,g in zip(range(len(knots)-1),f)]\n",
    "av_av=round(sum(av)/len(lst),2)\n",
    "print(f'Выборочная средняя (сумма середин интервалов ((х1-х0)/2), деленная на количество исходных данных) : {\" + \". join([str(i) for i in av])} / {len(lst)} = {av_av}')\n",
    "#смещенная выборочная дисперсия\n",
    "pre_d, num1=[],[]\n",
    "for i,g in zip(range(len(knots)-1),f):\n",
    "    pre_d.append((((knots[i]+knots[i+1])/2)-av_av)**2*g)\n",
    "    num1.append(f'((({(knots[i]+knots[i+1])/2}) - {av_av})^2 * {g})')\n",
    "D=round((1/len(lst))*sum(pre_d),2)\n",
    "print(f'Смещённая дисперсия: 1/N(кол-во исходных данных) * (сумма ряда (xi-Xср)^2*fi (i от 1 до k(количества интервалов) = 1 / {len(lst)}) * ({\" + \".join(num1)}) = {D}')\n",
    "#несмещённая дисперсия\n",
    "D1=(len(lst)/(len(lst)-1))*D\n",
    "print(f'Несмещённая дисперсия (кол-во исходных данных - N, D - смещённая дисперсия): N/N-1 * D = ({len(lst)}/({len(lst)}-1)) * {D} = {round(D1,2)}')\n",
    "#стандартное отклонение\n",
    "dev=math.sqrt(D1)\n",
    "print(f'Выборочное стандартное отклонение: квадратный корень из несмещённой дисперсии = {round(dev,2)}')\n",
    "#относительные частоты\n",
    "rel_f=[round(fr/len(lst),2) for fr in f]\n",
    "print(f'Относительные частоты (частота каждого интервала, делённая на количество исходных данных) = {\" , \".join([str(i) for i in rel_f])}')\n",
    "#плотности относительных частот\n",
    "ro_relf,num2=[],[]\n",
    "for i,g in zip(f,range(len(knots)-1)):\n",
    "    num2.append(f'Плотность относительной частоты {g+1} узла = ({i}/{len(lst)} * |{knots[g]-knots[g+1]}|')               \n",
    "    ro_relf.append(round(i/(len(lst)*abs(knots[g]-knots[g+1])),2))\n",
    "print(f'Плотности относительных частот = {\" , \".join([str(i) for i in ro_relf])}')\n",
    "print(*num2,sep='\\n')\n",
    "#накопленные частоты\n",
    "sum_mem=[]\n",
    "sum_mem.append(f[0])\n",
    "tr=f[0]\n",
    "for i in range(1,len(f)):\n",
    "    tr+=f[i]\n",
    "    sum_mem.append(tr)\n",
    "print(f'Накопленные частоты (суммы частот) = {\" , \".join([str(i) for i in sum_mem])}')\n",
    "#накопленные относительные частоты\n",
    "sum_rel=[]\n",
    "sum_rel.append(rel_f[0])\n",
    "tr=round(rel_f[0],2)\n",
    "for i in range(1,len(rel_f)):\n",
    "    tr+=rel_f[i]\n",
    "    tr=round(tr,2)\n",
    "    sum_rel.append(tr)\n",
    "print(f'Накопленные относительные частоты = {\" , \".join([str(i) for i in sum_rel])}')\n",
    "#мода\n",
    "fm=max(f)\n",
    "x0=knots[f.index(fm)]\n",
    "fm1=f[f.index(fm)-1]\n",
    "fm2=f[f.index(fm)+1]\n",
    "moda=x0+((fm-fm1)/((fm-fm1)+(fm+fm2)))*p\n",
    "print(f'Мода ряда равна x0+((fm-fm1)/((fm-fm1)+(fm+fm2)))*p(шаг ряда) = {x0}+(({fm-fm1})/(({fm-fm1})+({fm+fm2})))*{p} = {round(moda,2)}')\n",
    "#медиана\n",
    "ind=0\n",
    "for i in range(len(sum_rel)):\n",
    "    if sum_rel[i]>0.5:\n",
    "        ind=i\n",
    "        break\n",
    "x0=knots[ind]\n",
    "sme1=sum_rel[ind-1]\n",
    "wme=rel_f[ind]\n",
    "me=x0+((0.5-sme1)/wme)*p\n",
    "print(f'Медиана ряда равна x0+((0.5-sme1)/wme)*p = {x0}+((0.5-{sme1})/{wme})*{p} = {round(me,2)}')"
   ]
  },
  {
   "cell_type": "markdown",
   "id": "bc0f7448",
   "metadata": {},
   "source": [
    "Графики"
   ]
  },
  {
   "cell_type": "code",
   "execution_count": 3,
   "id": "9ea5e9c1",
   "metadata": {},
   "outputs": [],
   "source": [
    "import matplotlib.pyplot as plt"
   ]
  },
  {
   "cell_type": "code",
   "execution_count": 4,
   "id": "8cd9cf3a",
   "metadata": {},
   "outputs": [
    {
     "name": "stdout",
     "output_type": "stream",
     "text": [
      "Обозначения: ось х - список ниже; ось у - относительные частоты\n",
      "1 === [-5.18;-4.28)\n",
      "2 === [-4.28;-3.38)\n",
      "3 === [-3.38;-2.48)\n",
      "4 === [-2.48;-1.57)\n",
      "5 === [-1.57;-0.67)\n",
      "6 === [-0.67;0.23)\n",
      "7 === [0.23;1.13)\n"
     ]
    },
    {
     "data": {
      "image/png": "[encoded data removed]",
      "text/plain": [
       "<Figure size 432x288 with 1 Axes>"
      ]
     },
     "metadata": {
      "needs_background": "light"
     },
     "output_type": "display_data"
    }
   ],
   "source": [
    "#полигон относительных частот\n",
    "ind_lst=list(dic_row.keys())\n",
    "line=plt.plot([i for i in range(1,len(ind_lst)+1)],rel_f)\n",
    "plt.setp(line, color='red', linewidth=3, marker='o')\n",
    "plt.grid()\n",
    "plt.ylim(None,round(max(rel_f),2))\n",
    "print('Обозначения: ось х - список ниже; ось у - относительные частоты')\n",
    "for i,v in enumerate(list(dic_row.keys())):\n",
    "    print(f'{i+1} === {v}')\n",
    "plt.show()"
   ]
  },
  {
   "cell_type": "code",
   "execution_count": 5,
   "id": "04da7c33",
   "metadata": {},
   "outputs": [
    {
     "name": "stdout",
     "output_type": "stream",
     "text": [
      "Обозначения: ось х - список ниже; ось у - относительные частоты\n",
      "1 === [-5.18;-4.28)\n",
      "2 === [-4.28;-3.38)\n",
      "3 === [-3.38;-2.48)\n",
      "4 === [-2.48;-1.57)\n",
      "5 === [-1.57;-0.67)\n",
      "6 === [-0.67;0.23)\n",
      "7 === [0.23;1.13)\n"
     ]
    },
    {
     "data": {
      "image/png": "[encoded data removed]",
      "text/plain": [
       "<Figure size 432x288 with 1 Axes>"
      ]
     },
     "metadata": {
      "needs_background": "light"
     },
     "output_type": "display_data"
    }
   ],
   "source": [
    "#гистограмма относительных частот\n",
    "plt.bar([i for i in range(1,len(ind_lst)+1)],rel_f)\n",
    "plt.ylim(None, round(max(rel_f),2))\n",
    "print('Обозначения: ось х - список ниже; ось у - относительные частоты')\n",
    "for i,v in enumerate(list(dic_row.keys())):\n",
    "    print(f'{i+1} === {v}')\n",
    "plt.grid()\n",
    "plt.show()"
   ]
  },
  {
   "cell_type": "code",
   "execution_count": 6,
   "id": "4e24f75c",
   "metadata": {},
   "outputs": [
    {
     "name": "stdout",
     "output_type": "stream",
     "text": [
      "Обозначения: ось х - список ниже; ось у - относительные частоты\n",
      "1 === [-5.18;-4.28)\n",
      "2 === [-4.28;-3.38)\n",
      "3 === [-3.38;-2.48)\n",
      "4 === [-2.48;-1.57)\n",
      "5 === [-1.57;-0.67)\n",
      "6 === [-0.67;0.23)\n",
      "7 === [0.23;1.13)\n"
     ]
    },
    {
     "data": {
      "image/png": "[encoded data removed]",
      "text/plain": [
       "<Figure size 432x288 with 1 Axes>"
      ]
     },
     "metadata": {
      "needs_background": "light"
     },
     "output_type": "display_data"
    }
   ],
   "source": [
    "#гистограмма частот\n",
    "plt.bar([i for i in range(1,len(ind_lst)+1)],f)\n",
    "plt.ylim(None, round(max(f),2))\n",
    "print('Обозначения: ось х - список ниже; ось у - относительные частоты')\n",
    "for i,v in enumerate(list(dic_row.keys())):\n",
    "    print(f'{i+1} === {v}')\n",
    "plt.grid()\n",
    "plt.show()"
   ]
  },
  {
   "cell_type": "code",
   "execution_count": 7,
   "id": "994ebdc5",
   "metadata": {},
   "outputs": [
    {
     "name": "stdout",
     "output_type": "stream",
     "text": [
      "Обозначения: ось х - список ниже; ось у - накопленные относительные частоты\n",
      "1 === [-5.18;-4.28)\n",
      "2 === [-4.28;-3.38)\n",
      "3 === [-3.38;-2.48)\n",
      "4 === [-2.48;-1.57)\n",
      "5 === [-1.57;-0.67)\n",
      "6 === [-0.67;0.23)\n",
      "7 === [0.23;1.13)\n"
     ]
    },
    {
     "data": {
      "image/png": "[encoded data removed]",
      "text/plain": [
       "<Figure size 432x288 with 1 Axes>"
      ]
     },
     "metadata": {
      "needs_background": "light"
     },
     "output_type": "display_data"
    }
   ],
   "source": [
    "#кумулянта\n",
    "ind_lst=list(dic_row.keys())\n",
    "line=plt.plot([i for i in range(1,len(ind_lst)+1)],sum_rel)\n",
    "plt.setp(line, color='blue', linewidth=3, marker='o')\n",
    "plt.grid()\n",
    "plt.ylim(None,round(max(sum_rel),1))\n",
    "print('Обозначения: ось х - список ниже; ось у - накопленные относительные частоты')\n",
    "for i,v in enumerate(list(dic_row.keys())):\n",
    "    print(f'{i+1} === {v}')\n",
    "plt.show()"
   ]
  },
  {
   "cell_type": "code",
   "execution_count": 8,
   "id": "e8c4d6a4",
   "metadata": {},
   "outputs": [
    {
     "name": "stdout",
     "output_type": "stream",
     "text": [
      "Обозначения: ось х - список ниже; ось у - относительные частоты\n",
      "1 === [-5.18;-4.28)\n",
      "2 === [-4.28;-3.38)\n",
      "3 === [-3.38;-2.48)\n",
      "4 === [-2.48;-1.57)\n",
      "5 === [-1.57;-0.67)\n",
      "6 === [-0.67;0.23)\n",
      "7 === [0.23;1.13)\n"
     ]
    },
    {
     "data": {
      "image/png": "[encoded data removed]",
      "text/plain": [
       "<Figure size 432x288 with 1 Axes>"
      ]
     },
     "metadata": {
      "needs_background": "light"
     },
     "output_type": "display_data"
    },
    {
     "name": "stdout",
     "output_type": "stream",
     "text": [
      "Функция распределения F(x). При рисовании на бумагу рисовать не столбики, \n",
      "а линии, начала которых выкололотые, а концы нормальные (как ступеньки но без вертикальных линий)\n",
      "F(x) = 0 при x<=-5.18\n",
      "F(x) = 0.04 при -5.18<x<=-4.28\n",
      "F(x) = 0.18 при -4.28<x<=-3.38\n",
      "F(x) = 0.38 при -3.38<x<=-2.48\n",
      "F(x) = 0.64 при -2.48<x<=-1.57\n",
      "F(x) = 0.8 при -1.57<x<=-0.67\n",
      "F(x) = 0.88 при -0.67<x<=0.23\n",
      "F(x) = 0.98 при 0.23<x<=1.13\n",
      "F(x) = 1 при x>1.13\n"
     ]
    }
   ],
   "source": [
    "#эмпирическая функция распределения\n",
    "plt.bar([i for i in range(1,len(ind_lst)+1)],sum_rel)\n",
    "plt.ylim(None, round(max(sum_rel),1))\n",
    "print('Обозначения: ось х - список ниже; ось у - относительные частоты')\n",
    "for i,v in enumerate(list(dic_row.keys())):\n",
    "    print(f'{i+1} === {v}')\n",
    "plt.grid()\n",
    "plt.show()\n",
    "func_lst=[]\n",
    "func_lst.append(f'F(x) = 0 при x<={knots[0]}')\n",
    "for i in range(len(knots)-1):\n",
    "    func_lst.append(f'F(x) = {sum_rel[i]} при {knots[i]}<x<={knots[i+1]}')\n",
    "func_lst.append(f'F(x) = 1 при x>{knots[len(knots)-1]}')\n",
    "print('''Функция распределения F(x). При рисовании на бумагу рисовать не столбики, \n",
    "а линии, начала которых выкололотые, а концы нормальные (как ступеньки но без вертикальных линий)''')\n",
    "print(*func_lst, sep='\\n')"
   ]
  },
  {
   "cell_type": "code",
   "execution_count": null,
   "id": "c034c42a",
   "metadata": {},
   "outputs": [],
   "source": []
  }
 ],
 "metadata": {
  "interpreter": {
   "hash": "00aef3b98e4ccb3322387f6c47ad24282262e1fd4d41067bd78cec0ceaa17bd0"
  },
  "kernelspec": {
   "display_name": "Python 3.9.7 ('base')",
   "language": "python",
   "name": "python3"
  },
  "language_info": {
   "codemirror_mode": {
    "name": "ipython",
    "version": 3
   },
   "file_extension": ".py",
   "mimetype": "text/x-python",
   "name": "python",
   "nbconvert_exporter": "python",
   "pygments_lexer": "ipython3",
   "version": "3.9.7"
  }
 },
 "nbformat": 4,
 "nbformat_minor": 5
}
